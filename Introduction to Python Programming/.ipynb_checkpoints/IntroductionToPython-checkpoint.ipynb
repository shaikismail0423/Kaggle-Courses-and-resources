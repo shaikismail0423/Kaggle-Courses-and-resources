{
 "cells": [
  {
   "cell_type": "markdown",
   "id": "a87f2256-fde2-4cc5-8eed-cd93fcf6a3aa",
   "metadata": {},
   "source": [
    "## Printing"
   ]
  },
  {
   "cell_type": "code",
   "execution_count": 2,
   "id": "d4bdd745-8708-43ed-9943-036dd1a2dcfe",
   "metadata": {},
   "outputs": [
    {
     "name": "stdout",
     "output_type": "stream",
     "text": [
      "Hello, world!\n"
     ]
    }
   ],
   "source": [
    "print(\"Hello, world!\")"
   ]
  },
  {
   "cell_type": "markdown",
   "id": "19f524d6-1906-43da-9b05-e0288bb91fa4",
   "metadata": {},
   "source": [
    "## Arithmetic\n",
    "\n",
    "Python follows the PEMDAS rule when deciding the order of operations\n",
    "1. P Parentheses first\n",
    "2. E Exponents (ie Powers and Square Roots, etc.)\n",
    "3. MD->Multiplication and Division (left-to-right)\n",
    "4. AS->Addition and Subtraction (left-to-right)\n",
    "-right)"
   ]
  },
  {
   "cell_type": "code",
   "execution_count": 5,
   "id": "219e4849-ab19-45d4-b4d2-df9238af64e0",
   "metadata": {},
   "outputs": [
    {
     "name": "stdout",
     "output_type": "stream",
     "text": [
      "3\n"
     ]
    }
   ],
   "source": [
    "print(1 + 2)"
   ]
  },
  {
   "cell_type": "code",
   "execution_count": 6,
   "id": "8a1cbca8-337f-46a4-bf38-84bc3ac3d5cf",
   "metadata": {},
   "outputs": [
    {
     "name": "stdout",
     "output_type": "stream",
     "text": [
      "196.0\n"
     ]
    }
   ],
   "source": [
    "print(((1 + 3) * (9 - 2) / 2) ** 2)"
   ]
  },
  {
   "cell_type": "markdown",
   "id": "293b1f42-2aae-4fa8-a655-17cc251e883f",
   "metadata": {},
   "source": [
    "## Comments"
   ]
  },
  {
   "cell_type": "code",
   "execution_count": 8,
   "id": "b7dde304-1a72-466e-a10f-2b8aafb50388",
   "metadata": {},
   "outputs": [],
   "source": [
    "# print(3 * 2)"
   ]
  },
  {
   "cell_type": "markdown",
   "id": "9355532e-b1ba-45de-951e-fc0eeeeeb953",
   "metadata": {},
   "source": [
    "# Variables"
   ]
  },
  {
   "cell_type": "code",
   "execution_count": null,
   "id": "2c19991a-a1e0-483b-a001-79a06de2f190",
   "metadata": {},
   "outputs": [],
   "source": []
  }
 ],
 "metadata": {
  "kernelspec": {
   "display_name": "Python 3 (ipykernel)",
   "language": "python",
   "name": "python3"
  },
  "language_info": {
   "codemirror_mode": {
    "name": "ipython",
    "version": 3
   },
   "file_extension": ".py",
   "mimetype": "text/x-python",
   "name": "python",
   "nbconvert_exporter": "python",
   "pygments_lexer": "ipython3",
   "version": "3.11.3"
  }
 },
 "nbformat": 4,
 "nbformat_minor": 5
}
